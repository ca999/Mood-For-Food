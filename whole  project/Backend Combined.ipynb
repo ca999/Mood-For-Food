{
 "cells": [
  {
   "cell_type": "code",
   "execution_count": 2930,
   "metadata": {},
   "outputs": [],
   "source": [
    "from flask import Flask, render_template, request, jsonify,redirect, url_for\n",
    "from flask_mysqldb import MySQL\n",
    "import json\n"
   ]
  },
  {
   "cell_type": "code",
   "execution_count": 2931,
   "metadata": {},
   "outputs": [],
   "source": [
    "def getindexf():\n",
    "    cur = mysql.connection.cursor()\n",
    "    cur.execute(\"select MAX(fid) from foodt\")    \n",
    "    fid= 0\n",
    "    for c in cur:\n",
    "        fid = c[0]\n",
    "        break;\n",
    "    cur.close()\n",
    "    return fid\n",
    "   "
   ]
  },
  {
   "cell_type": "code",
   "execution_count": 2932,
   "metadata": {},
   "outputs": [],
   "source": [
    "def getindexi():\n",
    "    cur = mysql.connection.cursor()\n",
    "    cur.execute(\"select MAX(ing_id) from ingredients\")   \n",
    "    fid= 0\n",
    "    for c in cur:\n",
    "        fid = c[0]\n",
    "        break;\n",
    "    cur.close()\n",
    "    return fid\n",
    "   "
   ]
  },
  {
   "cell_type": "code",
   "execution_count": 2933,
   "metadata": {},
   "outputs": [],
   "source": [
    "def insertFoodt(name,time,dtype,cal,tot_fat,sugar,sodium,protein,sat_fat,carbs):\n",
    "    cur = mysql.connection.cursor()\n",
    "    fid = getindexf()+1\n",
    "    cur.execute( \"insert into foodt (fid, name, time, dtype, cal, tot_fat, sugar, sodium, protein, sat_fat, carbs) values (%s, %s, %s, %s, %s, %s, %s, %s, %s, %s, %s)\",(fid,name,time,dtype,cal,tot_fat,sugar,sodium,protein,sat_fat,carbs))\n",
    "    mysql.connection.commit()\n",
    "    cur.close()\n",
    "    return fid;\n",
    "    "
   ]
  },
  {
   "cell_type": "code",
   "execution_count": 2934,
   "metadata": {},
   "outputs": [],
   "source": [
    "def insertContainst(fid,ing_id):\n",
    "    cur = mysql.connection.cursor()\n",
    "    cur.execute(\"insert into containst(fid,ing_id) values (%s, %s)\",(fid,ing_id))\n",
    "    mysql.connection.commit()\n",
    "    cur.close()\n",
    "    "
   ]
  },
  {
   "cell_type": "code",
   "execution_count": 2935,
   "metadata": {},
   "outputs": [],
   "source": [
    "def insertIngType(ing_id, itype):\n",
    "    cur = mysql.connection.cursor()\n",
    "    cur.execute(\"insert into ingredients_type(ing_id,itype) values (%s, %s)\",(ing_id,itype))\n",
    "    mysql.connection.commit()\n",
    "    cur.close()\n",
    "    "
   ]
  },
  {
   "cell_type": "code",
   "execution_count": 2936,
   "metadata": {},
   "outputs": [],
   "source": [
    "def ingPresent(ing):\n",
    "    cur = mysql.connection.cursor()\n",
    "    cur.execute(\"select ing_id from ingredients where ing_name =%s\",[ing])\n",
    "    v = 0\n",
    "    for c in cur:\n",
    "        v=c[0]\n",
    "        break\n",
    "    cur.close()\n",
    "    return v\n"
   ]
  },
  {
   "cell_type": "code",
   "execution_count": 2937,
   "metadata": {},
   "outputs": [],
   "source": [
    "def insertIng(cat, val, fid):\n",
    "    cur = mysql.connection.cursor()\n",
    "    for f in val:\n",
    "        v = ingPresent(f.lower())\n",
    "        if(v==0):\n",
    "            k = getindexi() + 1\n",
    "           \n",
    "            print(v,k)\n",
    "            cur.execute(\"insert into ingredients(ing_id,ing_name) values (%s, %s)\",(k,f.lower()))\n",
    "            mysql.connection.commit()\n",
    "            insertIngType(k,cat)\n",
    "            v = k\n",
    "        insertContainst(fid,v)\n",
    "    mysql.connection.commit()\n",
    "    cur.close() \n"
   ]
  },
  {
   "cell_type": "code",
   "execution_count": 2938,
   "metadata": {},
   "outputs": [],
   "source": [
    "def insertSteps(fid, val):\n",
    "    cur = mysql.connection.cursor()\n",
    "    for i in range(0,len(val)):\n",
    "        desc= val[i]\n",
    "        seq= i+1\n",
    "        cur.execute(\"insert into steps(fid,sequence, description) values (%s,%s,%s)\", (fid,seq,desc))\n",
    "        mysql.connection.commit()\n",
    "    cur.close()\n",
    "        \n",
    "        "
   ]
  },
  {
   "cell_type": "code",
   "execution_count": 2939,
   "metadata": {},
   "outputs": [],
   "source": [
    "from flask import Flask, render_template,request\n",
    "\n",
    "app = Flask(__name__)\n",
    "app.config['MYSQL_HOST'] = 'localhost'\n",
    "app.config['MYSQL_USER'] = 'root'\n",
    "app.config['MYSQL_PASSWORD'] = 'mooo69'\n",
    "app.config['MYSQL_DB'] = 'Food'\n",
    "mysql = MySQL(app)\n",
    "\n",
    "\n",
    "@app.route('/add_recipe',methods = ['GET','POST'])\n",
    "    \n",
    "def add_recipe():\n",
    "    if request.method == \"POST\":\n",
    "        get = request.form\n",
    "        recipename = get[\"name\" ]\n",
    "        preptime = get[\"min\"]\n",
    "        dtype = get[\"type\"]\n",
    "        fruits = get[\"fruits\"].split(\",\")\n",
    "        veg = get[\"veg\"].split(\",\")\n",
    "        meat = get[\"meat\"].split(\",\")\n",
    "        diary = get[\"diary\"].split(\",\")\n",
    "        spices = get[\"spices\"].split(\",\")\n",
    "        steps = get[\"steps\"].split(\".\")\n",
    "        cal = get[\"cal\"]\n",
    "        tot_fat = get[\"tot_fat\"]\n",
    "        sugar = get[\"sugar\"]\n",
    "        sodium = get[\"sodium\"]\n",
    "        protein = get[\"protein\"]\n",
    "        sat_fat = get['sat_fat']\n",
    "        carbs = get[\"carb\"]\n",
    "        fid = insertFoodt(recipename,preptime,dtype,cal,tot_fat,sugar,sodium,protein,sat_fat,carbs)\n",
    "        insertIng(\"Fruit\",fruits,fid)\n",
    "        insertIng(\"Vegetabele\",veg,fid)\n",
    "        insertIng(\"Meat\",meat,fid)\n",
    "        insertIng(\"Diary\",diary,fid)\n",
    "        insertIng(\"Spices\",spices,fid)\n",
    "        insertSteps(fid, steps)    \n",
    "                \n",
    "        return 'success'\n",
    "    return render_template('add_reipe.html')\n"
   ]
  },
  {
   "cell_type": "code",
   "execution_count": 2940,
   "metadata": {},
   "outputs": [],
   "source": [
    "@app.route('/find_recipe', methods=['GET', 'POST'])\n",
    "\n",
    "def find_recipe():\n",
    "    \n",
    "    return render_template('find_recipe2.html')\n"
   ]
  },
  {
   "cell_type": "code",
   "execution_count": 2941,
   "metadata": {},
   "outputs": [],
   "source": [
    "@app.route('/findname', methods=['GET','POST'])\n",
    "\n",
    "def findname():\n",
    "    if request.method=='POST':\n",
    "        username = request.form['username']\n",
    "        print(username)\n",
    "        \n",
    "    return render_template('ByName.html')"
   ]
  },
  {
   "cell_type": "code",
   "execution_count": 2942,
   "metadata": {},
   "outputs": [],
   "source": [
    "@app.route('/bynames', methods=['GET','POST'])\n",
    "\n",
    "\n",
    "def bynames():\n",
    "    \n",
    "    recipename = 1001\n",
    "    \n",
    "    if request.method == \"POST\":     \n",
    "        get = request.form        \n",
    "        recipename = get['getRecipe']\n",
    "              \n",
    "        cur = mysql.connection.cursor()\n",
    "        cur.execute(\"select fid, name from foodt where name=%s\",[recipename])    \n",
    "        recipename={}\n",
    "        for c in cur:\n",
    "            recipename[(c[0])]=(c[1])\n",
    "        recipename = json.dumps(recipename)\n",
    "        print(recipename)\n",
    "       \n",
    "        cur.close()\n",
    "        return redirect(url_for('showrecipe',recipe=recipename))\n",
    "         \n",
    "    return render_template('ByName.html')\n"
   ]
  },
  {
   "cell_type": "code",
   "execution_count": 2943,
   "metadata": {},
   "outputs": [],
   "source": [
    "@app.route('/foo')\n",
    "def foo():\n",
    "    return 'Hello Foo!'\n"
   ]
  },
  {
   "cell_type": "code",
   "execution_count": null,
   "metadata": {},
   "outputs": [],
   "source": [
    "@app.route('/showrecipe/<recipe>', methods=['GET', 'POST'])\n",
    "def showrecipe(recipe):\n",
    "   \n",
    "    recipe = json.loads(recipe)\n",
    "  \n",
    "    if request.method == \"POST\":     \n",
    "        get = request.form        \n",
    "        fid = get['btn']\n",
    "        print(type(fid))\n",
    "        \n",
    "        return redirect(url_for('recipe',fid = fid))\n",
    "        \n",
    "       \n",
    "        \n",
    "    return render_template('show_recipes.html',result=recipe)\n",
    "\n"
   ]
  },
  {
   "cell_type": "code",
   "execution_count": null,
   "metadata": {},
   "outputs": [],
   "source": [
    "@app.route('/recipe/<fid>', methods=['GET', 'POST'])\n",
    "\n",
    "def recipe(fid):\n",
    "        cur = mysql.connection.cursor()\n",
    "        cur.execute(\"select name, time, dtype from foodt where fid=%s\",[fid])\n",
    "        name = \"\"\n",
    "        time = \"\"\n",
    "        dtype= \"\";\n",
    "        \n",
    "        for i in cur:           \n",
    "            name = i[0]\n",
    "            time = i[1]\n",
    "            dtype = i[2]\n",
    "        cur.execute(\"select i.ing_name from containst c, ingredients i where c.fid=%s and c.ing_id=i.ing_id\", [fid])\n",
    "        ing = []\n",
    "        for i in cur:\n",
    "            ing.append(i[0])\n",
    "        cur.execute(\"select sequence,description from steps where fid=%s\",[fid])\n",
    "        steps = {}\n",
    "        for i in cur:\n",
    "            steps[i[0]] = i[1]\n",
    "        cur.close() \n",
    "        return render_template('recipe.html', name = name, dtype = dtype, time = time, ing= ing, steps = steps)\n",
    "    \n"
   ]
  },
  {
   "cell_type": "code",
   "execution_count": null,
   "metadata": {},
   "outputs": [],
   "source": [
    "@app.route('/byIngName', methods=['GET', 'POST'])\n",
    "\n",
    "def byIngName():\n",
    "       \n",
    "    if request.method == \"POST\":     \n",
    "        get = request.form        \n",
    "        recipename = get['getRecipe']\n",
    "              \n",
    "        cur = mysql.connection.cursor()\n",
    "        cur.execute(\"select distinct f.fid, f.name from foodt f, containst c, ingredients i where f.fid=c.fid and c.ing_id=i.ing_id and ing_name = %s order by f.name asc\",[recipename])    \n",
    "        recipename={}\n",
    "      \n",
    "        for c in cur:\n",
    "            recipename[(c[0])]=(c[1])\n",
    "        recipename = json.dumps(recipename)\n",
    "        print(recipename)\n",
    "       \n",
    "        cur.close()\n",
    "        return redirect(url_for('showrecipe',recipe=recipename))\n",
    "         \n",
    "    return render_template('ByName.html')\n",
    "   "
   ]
  },
  {
   "cell_type": "code",
   "execution_count": null,
   "metadata": {},
   "outputs": [],
   "source": [
    "@app.route('/byIngNum', methods=['GET', 'POST'])\n",
    "\n",
    "def byIngNum():\n",
    "    if request.method == \"POST\":     \n",
    "        get = request.form        \n",
    "        recipename = get['getRecipe']\n",
    "              \n",
    "        cur = mysql.connection.cursor()\n",
    "        cur.execute(\"select distinct f.fid, f.name from foodt f, containst c,ingredients i where f.fid=c.fid and c.ing_id=i.ing_id and f.fid in (select f.fid from foodt f,containst c where f.fid=c.fid group by c.fid having count(*)<%s)\",[recipename])    \n",
    "        recipename={}\n",
    "      \n",
    "        for c in cur:\n",
    "            recipename[(c[0])]=(c[1])\n",
    "        recipename = json.dumps(recipename)\n",
    "        print(recipename)\n",
    "       \n",
    "        cur.close()\n",
    "        return redirect(url_for('showrecipe',recipe=recipename))\n",
    "         \n",
    "    return render_template('ByName.html')"
   ]
  },
  {
   "cell_type": "code",
   "execution_count": null,
   "metadata": {},
   "outputs": [],
   "source": [
    "@app.route('/veg', methods=['GET', 'POST'])\n",
    "\n",
    "def veg():\n",
    "    recipename = \"veg\"\n",
    "              \n",
    "    cur = mysql.connection.cursor()\n",
    "    cur.execute(\"select fid,name from foodt where dtype=%s; \",[recipename])    \n",
    "    recipename={}\n",
    "      \n",
    "    for c in cur:\n",
    "        recipename[(c[0])]=(c[1])\n",
    "    recipename = json.dumps(recipename)\n",
    "    print(recipename)\n",
    "       \n",
    "    cur.close()\n",
    "    return redirect(url_for('showrecipe',recipe=recipename))\n",
    "    "
   ]
  },
  {
   "cell_type": "code",
   "execution_count": null,
   "metadata": {},
   "outputs": [],
   "source": [
    "@app.route('/vegan', methods=['GET', 'POST'])\n",
    "\n",
    "def vegan():\n",
    "    recipename = \"vegan\"\n",
    "              \n",
    "    cur = mysql.connection.cursor()\n",
    "    cur.execute(\"select fid,name from foodt where dtype=%s; \",[recipename])    \n",
    "    recipename={}\n",
    "      \n",
    "    for c in cur:\n",
    "        recipename[(c[0])]=(c[1])\n",
    "    recipename = json.dumps(recipename)\n",
    "    print(recipename)\n",
    "       \n",
    "    cur.close()\n",
    "    return redirect(url_for('showrecipe',recipe=recipename))\n",
    "    "
   ]
  },
  {
   "cell_type": "code",
   "execution_count": null,
   "metadata": {},
   "outputs": [],
   "source": [
    "@app.route('/nonveg', methods=['GET', 'POST'])\n",
    "\n",
    "def nonveg():\n",
    "    recipename = \"non veg\"\n",
    "              \n",
    "    cur = mysql.connection.cursor()\n",
    "    cur.execute(\"select fid,name from foodt where dtype=%s; \",[recipename])    \n",
    "    recipename={}\n",
    "      \n",
    "    for c in cur:\n",
    "        recipename[(c[0])]=(c[1])\n",
    "    recipename = json.dumps(recipename)\n",
    "    print(recipename)\n",
    "       \n",
    "    cur.close()\n",
    "    return redirect(url_for('showrecipe',recipe=recipename))"
   ]
  },
  {
   "cell_type": "code",
   "execution_count": null,
   "metadata": {},
   "outputs": [],
   "source": [
    "@app.route('/byTime', methods=['GET', 'POST'])\n",
    "\n",
    "def byTime():\n",
    "    if request.method == \"POST\":     \n",
    "        get = request.form        \n",
    "        recipename = get['getRecipe']\n",
    "              \n",
    "        cur = mysql.connection.cursor()\n",
    "        cur.execute(\"select fid, name, cal from foodt where time<%s\",[recipename])    \n",
    "        recipename={}\n",
    "      \n",
    "        for c in cur:\n",
    "            recipename[(c[0])]=(c[1])\n",
    "        recipename = json.dumps(recipename)\n",
    "        print(recipename)\n",
    "       \n",
    "        cur.close()\n",
    "        return redirect(url_for('showrecipe',recipe=recipename))\n",
    "         \n",
    "    return render_template('ByName.html')"
   ]
  },
  {
   "cell_type": "code",
   "execution_count": null,
   "metadata": {},
   "outputs": [],
   "source": [
    "@app.route('/calories', methods=['GET', 'POST'])\n",
    "\n",
    "def calories():\n",
    "    if request.method == \"POST\":     \n",
    "        get = request.form        \n",
    "        recipename = get['getRecipe']\n",
    "              \n",
    "        cur = mysql.connection.cursor()\n",
    "        cur.execute(\"select fid, name, cal from foodt where cal<%s\",[recipename])    \n",
    "        recipename={}\n",
    "      \n",
    "        for c in cur:\n",
    "            recipename[(c[0])]=(c[1])\n",
    "        recipename = json.dumps(recipename)\n",
    "        print(recipename)\n",
    "       \n",
    "        cur.close()\n",
    "        return redirect(url_for('showrecipe',recipe=recipename))         \n",
    "    return render_template('ByName.html')"
   ]
  },
  {
   "cell_type": "code",
   "execution_count": null,
   "metadata": {},
   "outputs": [],
   "source": [
    "@app.route('/diaryfree', methods=['GET', 'POST'])\n",
    "\n",
    "def diaryfree():\n",
    "   \n",
    "    cur = mysql.connection.cursor()\n",
    "    cur.execute(\" select distinct fid, name from foodt where name not in(select f.name from foodt f, containst c, ingredients_type it where c.fid=f.fid and c.ing_id=it.ing_id and it.itype like '%Dairy%')\")    \n",
    "    recipename={}\n",
    "      \n",
    "    for c in cur:\n",
    "        recipename[(c[0])]=(c[1])\n",
    "    recipename = json.dumps(recipename)\n",
    "    print(recipename)\n",
    "       \n",
    "    cur.close()\n",
    "    return redirect(url_for('showrecipe',recipe=recipename))"
   ]
  },
  {
   "cell_type": "code",
   "execution_count": null,
   "metadata": {},
   "outputs": [],
   "source": [
    "@app.route('/postworkout', methods=['GET', 'POST'])\n",
    "\n",
    "def postworkout():\n",
    "    cur = mysql.connection.cursor()\n",
    "    cur.execute(\"select fid, name from foodt where protein>20\")    \n",
    "    recipename={}\n",
    "      \n",
    "    for c in cur:\n",
    "        recipename[(c[0])]=(c[1])\n",
    "    recipename = json.dumps(recipename)\n",
    "    print(recipename)\n",
    "       \n",
    "    cur.close()\n",
    "    return redirect(url_for('showrecipe',recipe=recipename))"
   ]
  },
  {
   "cell_type": "code",
   "execution_count": null,
   "metadata": {},
   "outputs": [],
   "source": [
    "@app.route('/lactose', methods=['GET', 'POST'])\n",
    "\n",
    "def lactose():\n",
    "    if request.method == \"POST\":\n",
    "        \n",
    "        return 'success' \n",
    "    return render_template('find_recipe.html')"
   ]
  },
  {
   "cell_type": "code",
   "execution_count": null,
   "metadata": {},
   "outputs": [],
   "source": [
    "@app.route('/healthy', methods=['GET', 'POST'])\n",
    "\n",
    "def healthy():\n",
    "    cur = mysql.connection.cursor()\n",
    "    cur.execute(\"select fid, name from foodt where cal<300 and sodium<600\")    \n",
    "    recipename={}\n",
    "      \n",
    "    for c in cur:\n",
    "        recipename[(c[0])]=(c[1])\n",
    "    recipename = json.dumps(recipename)\n",
    "    print(recipename)\n",
    "       \n",
    "    cur.close()\n",
    "    return redirect(url_for('showrecipe',recipe=recipename))"
   ]
  },
  {
   "cell_type": "code",
   "execution_count": null,
   "metadata": {},
   "outputs": [],
   "source": [
    "\n",
    "@app.route('/', methods=['GET', 'POST'])\n",
    "\n",
    "def homke():\n",
    "    return render_template('home.html')\n"
   ]
  },
  {
   "cell_type": "code",
   "execution_count": null,
   "metadata": {},
   "outputs": [
    {
     "name": "stdout",
     "output_type": "stream",
     "text": [
      " * Serving Flask app \"__main__\" (lazy loading)\n",
      " * Environment: production\n",
      "   WARNING: Do not use the development server in a production environment.\n",
      "   Use a production WSGI server instead.\n",
      " * Debug mode: off\n"
     ]
    },
    {
     "name": "stderr",
     "output_type": "stream",
     "text": [
      " * Running on http://127.0.0.1:5000/ (Press CTRL+C to quit)\n",
      "127.0.0.1 - - [13/May/2020 19:06:04] \"\u001b[37mGET / HTTP/1.1\u001b[0m\" 200 -\n",
      "127.0.0.1 - - [13/May/2020 19:06:10] \"\u001b[37mGET / HTTP/1.1\u001b[0m\" 200 -\n",
      "127.0.0.1 - - [13/May/2020 19:06:18] \"\u001b[37mGET / HTTP/1.1\u001b[0m\" 200 -\n",
      "127.0.0.1 - - [13/May/2020 19:06:19] \"\u001b[37mGET /find_recipe HTTP/1.1\u001b[0m\" 200 -\n",
      "127.0.0.1 - - [13/May/2020 19:06:27] \"\u001b[32mGET /healthy HTTP/1.1\u001b[0m\" 302 -\n",
      "127.0.0.1 - - [13/May/2020 19:06:27] \"\u001b[37mGET /showrecipe/%7B%224%22:%20%22Dosa%22%7D HTTP/1.1\u001b[0m\" 200 -\n"
     ]
    },
    {
     "name": "stdout",
     "output_type": "stream",
     "text": [
      "{\"4\": \"Dosa\"}\n"
     ]
    },
    {
     "name": "stderr",
     "output_type": "stream",
     "text": [
      "127.0.0.1 - - [13/May/2020 19:06:36] \"\u001b[32mGET /postworkout HTTP/1.1\u001b[0m\" 302 -\n",
      "127.0.0.1 - - [13/May/2020 19:06:36] \"\u001b[37mGET /showrecipe/%7B%221%22:%20%22soup%22%2C%20%222%22:%20%22soup%22%2C%20%223%22:%20%22soup%22%2C%20%224%22:%20%22Dosa%22%2C%20%227%22:%20%22Sambhar%22%2C%20%228%22:%20%22Rasam%22%2C%20%229%22:%20%22Chicken%20Curry%22%2C%20%2210%22:%20%22Mutton%20Curry%22%7D HTTP/1.1\u001b[0m\" 200 -\n"
     ]
    },
    {
     "name": "stdout",
     "output_type": "stream",
     "text": [
      "{\"1\": \"soup\", \"2\": \"soup\", \"3\": \"soup\", \"4\": \"Dosa\", \"7\": \"Sambhar\", \"8\": \"Rasam\", \"9\": \"Chicken Curry\", \"10\": \"Mutton Curry\"}\n"
     ]
    },
    {
     "name": "stderr",
     "output_type": "stream",
     "text": [
      "127.0.0.1 - - [13/May/2020 19:07:15] \"\u001b[37mGET /bynames HTTP/1.1\u001b[0m\" 200 -\n",
      "127.0.0.1 - - [13/May/2020 19:07:17] \"\u001b[37mGET /byIngName HTTP/1.1\u001b[0m\" 200 -\n",
      "127.0.0.1 - - [13/May/2020 19:07:20] \"\u001b[37mGET /byIngNum HTTP/1.1\u001b[0m\" 200 -\n",
      "127.0.0.1 - - [13/May/2020 19:07:25] \"\u001b[32mGET /veg HTTP/1.1\u001b[0m\" 302 -\n",
      "127.0.0.1 - - [13/May/2020 19:07:25] \"\u001b[37mGET /showrecipe/%7B%221%22:%20%22soup%22%2C%20%224%22:%20%22Dosa%22%2C%20%225%22:%20%22Halwa%22%2C%20%226%22:%20%22Puliogare%22%2C%20%227%22:%20%22Sambhar%22%2C%20%228%22:%20%22Rasam%22%7D HTTP/1.1\u001b[0m\" 200 -\n"
     ]
    },
    {
     "name": "stdout",
     "output_type": "stream",
     "text": [
      "{\"1\": \"soup\", \"4\": \"Dosa\", \"5\": \"Halwa\", \"6\": \"Puliogare\", \"7\": \"Sambhar\", \"8\": \"Rasam\"}\n"
     ]
    },
    {
     "name": "stderr",
     "output_type": "stream",
     "text": [
      "127.0.0.1 - - [13/May/2020 19:07:28] \"\u001b[32mGET /nonveg HTTP/1.1\u001b[0m\" 302 -\n",
      "127.0.0.1 - - [13/May/2020 19:07:28] \"\u001b[37mGET /showrecipe/%7B%222%22:%20%22soup%22%2C%20%229%22:%20%22Chicken%20Curry%22%2C%20%2210%22:%20%22Mutton%20Curry%22%7D HTTP/1.1\u001b[0m\" 200 -\n"
     ]
    },
    {
     "name": "stdout",
     "output_type": "stream",
     "text": [
      "{\"2\": \"soup\", \"9\": \"Chicken Curry\", \"10\": \"Mutton Curry\"}\n"
     ]
    }
   ],
   "source": [
    "if __name__ == '__main__':\n",
    "       \n",
    "    app.run()"
   ]
  },
  {
   "cell_type": "code",
   "execution_count": null,
   "metadata": {},
   "outputs": [],
   "source": []
  }
 ],
 "metadata": {
  "kernelspec": {
   "display_name": "Python 3",
   "language": "python",
   "name": "python3"
  },
  "language_info": {
   "codemirror_mode": {
    "name": "ipython",
    "version": 3
   },
   "file_extension": ".py",
   "mimetype": "text/x-python",
   "name": "python",
   "nbconvert_exporter": "python",
   "pygments_lexer": "ipython3",
   "version": "3.7.1"
  }
 },
 "nbformat": 4,
 "nbformat_minor": 2
}
