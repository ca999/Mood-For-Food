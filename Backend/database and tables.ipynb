{
 "cells": [
  {
   "cell_type": "code",
   "execution_count": 69,
   "metadata": {},
   "outputs": [
    {
     "name": "stdout",
     "output_type": "stream",
     "text": [
      "FOODT:\n",
      "('fid', b'int', 'NO', bytearray(b'PRI'), None, '')\n",
      "('name', b'char(100)', 'YES', bytearray(b''), None, '')\n",
      "('time', b'int', 'YES', bytearray(b''), None, '')\n",
      "('dtype', b'varchar(20)', 'YES', bytearray(b''), None, '')\n",
      "('cal', b'int', 'YES', bytearray(b''), None, '')\n",
      "('tot_fat', b'int', 'YES', bytearray(b''), None, '')\n",
      "('sugar', b'int', 'YES', bytearray(b''), None, '')\n",
      "('sodium', b'int', 'YES', bytearray(b''), None, '')\n",
      "('protein', b'int', 'YES', bytearray(b''), None, '')\n",
      "('sat_fat', b'int', 'YES', bytearray(b''), None, '')\n",
      "('carbs', b'int', 'YES', bytearray(b''), None, '')\n",
      "\n",
      "INGREDIENTS:\n",
      "('ing_id', b'int', 'NO', bytearray(b'PRI'), None, '')\n",
      "('ing_name', b'char(255)', 'YES', bytearray(b''), None, '')\n",
      "\n",
      "CONTAINS:\n",
      "('fid', b'int', 'YES', bytearray(b''), None, '')\n",
      "('ing_id', b'int', 'YES', bytearray(b''), None, '')\n",
      "\n",
      "INGREDIENTS_TYPE:\n",
      "('ing_id', b'int', 'YES', bytearray(b''), None, '')\n",
      "('itype', b'varchar(255)', 'YES', bytearray(b''), None, '')\n",
      "\n",
      "STEPS:\n",
      "('fid', b'int', 'YES', bytearray(b''), None, '')\n",
      "('sequence', b'int', 'YES', bytearray(b''), None, '')\n",
      "('description', b'varchar(255)', 'YES', bytearray(b''), None, '')\n"
     ]
    }
   ],
   "source": [
    "import mysql.connector\n",
    "\n",
    "cnx = mysql.connector.connect(user='moo123', password = 'mooo69',\n",
    "                              host='localhost')\n",
    "\n",
    "db_cursor = cnx.cursor()\n",
    "\n",
    "db_cursor.execute(\"USE food\")\n",
    "#db_cursor.execute(\"create table foodt (fid int(5) key , name char(100), time int(4), dtype varchar(20),cal int(5), tot_fat int(5),sugar int(5),sodium int(5),protein int(5),sat_fat int(5),carbs int(5) )\")\n",
    "#db_cursor.execute(\"create table ingredients(ing_id int(255) key, ing_name char(255))\")\n",
    "#db_cursor.execute(\"create table containst( fid int(5) references foodt.fid ,ing_id int(255) references ingredients(ing_id))\")\n",
    "#db_cursor.execute(\"create table ingredients_type(ing_id int(255) references ingredients(ing_id), itype varchar(255))\")\n",
    "#db_cursor.execute(\"create table steps(fid int(5) references foodt(fid) on update cascade on delete cascade, sequence int(100), description varchar(255))\")\n",
    "print(\"FOODT:\")\n",
    "db_cursor.execute(\"desc foodt\")\n",
    "for d in db_cursor:\n",
    "    print(d)\n",
    "print(\"\\nINGREDIENTS:\")\n",
    "db_cursor.execute(\"desc ingredients\")\n",
    "for d in db_cursor:\n",
    "    print(d)\n",
    "print(\"\\nCONTAINS:\")\n",
    "db_cursor.execute(\"desc containst\")\n",
    "for d in db_cursor:\n",
    "    print(d)\n",
    "print(\"\\nINGREDIENTS_TYPE:\")\n",
    "db_cursor.execute(\"desc ingredients_type\")\n",
    "for d in db_cursor:\n",
    "    print(d)\n",
    "print(\"\\nSTEPS:\")\n",
    "db_cursor.execute(\"desc steps\")\n",
    "for d in db_cursor:\n",
    "    print(d)\n",
    "\n",
    "cnx.close()"
   ]
  },
  {
   "cell_type": "code",
   "execution_count": null,
   "metadata": {},
   "outputs": [],
   "source": []
  },
  {
   "cell_type": "code",
   "execution_count": null,
   "metadata": {},
   "outputs": [],
   "source": []
  }
 ],
 "metadata": {
  "kernelspec": {
   "display_name": "Python 3",
   "language": "python",
   "name": "python3"
  },
  "language_info": {
   "codemirror_mode": {
    "name": "ipython",
    "version": 3
   },
   "file_extension": ".py",
   "mimetype": "text/x-python",
   "name": "python",
   "nbconvert_exporter": "python",
   "pygments_lexer": "ipython3",
   "version": "3.7.1"
  }
 },
 "nbformat": 4,
 "nbformat_minor": 2
}
