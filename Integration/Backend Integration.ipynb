{
 "cells": [
  {
   "cell_type": "code",
   "execution_count": 294,
   "metadata": {},
   "outputs": [],
   "source": [
    "from flask import Flask, render_template, request\n",
    "from flask_mysqldb import MySQL"
   ]
  },
  {
   "cell_type": "code",
   "execution_count": 312,
   "metadata": {},
   "outputs": [],
   "source": [
    "def getindexf():\n",
    "    cur = mysql.connection.cursor()\n",
    "    cur.execute(\"select MAX(fid) from foodt\")    \n",
    "    fid= 0\n",
    "    for c in cur:\n",
    "        fid = c[0]\n",
    "        break;\n",
    "    cur.close()\n",
    "    return fid\n",
    "   "
   ]
  },
  {
   "cell_type": "code",
   "execution_count": 313,
   "metadata": {},
   "outputs": [],
   "source": [
    "def getindexi():\n",
    "    cur = mysql.connection.cursor()\n",
    "    cur.execute(\"select MAX(ing_id) from ingredients\")   \n",
    "    fid= 0\n",
    "    for c in cur:\n",
    "        fid = c[0]\n",
    "        break;\n",
    "    cur.close()\n",
    "    return fid\n",
    "   "
   ]
  },
  {
   "cell_type": "code",
   "execution_count": 314,
   "metadata": {},
   "outputs": [],
   "source": [
    "def insertFoodt(name,time,dtype,cal,tot_fat,sugar,sodium,protein,sat_fat,carbs):\n",
    "    cur = mysql.connection.cursor()\n",
    "    fid = getindexf()+1\n",
    "    cur.execute( \"insert into foodt (fid, name, time, dtype, cal, tot_fat, sugar, sodium, protein, sat_fat, carbs) values (%s, %s, %s, %s, %s, %s, %s, %s, %s, %s, %s)\",(fid,name,time,dtype,cal,tot_fat,sugar,sodium,protein,sat_fat,carbs))\n",
    "    mysql.connection.commit()\n",
    "    cur.close()\n",
    "    return fid;\n",
    "    "
   ]
  },
  {
   "cell_type": "code",
   "execution_count": 315,
   "metadata": {},
   "outputs": [],
   "source": [
    "def insertContainst(fid,ing_id):\n",
    "    cur = mysql.connection.cursor()\n",
    "    cur.execute(\"insert into containst(fid,ing_id) values (%s, %s)\",(fid,ing_id))\n",
    "    mysql.connection.commit()\n",
    "    cur.close()\n",
    "    "
   ]
  },
  {
   "cell_type": "code",
   "execution_count": 316,
   "metadata": {},
   "outputs": [],
   "source": [
    "def insertIngType(ing_id, itype):\n",
    "    cur = mysql.connection.cursor()\n",
    "    cur.execute(\"insert into ingredients_type(ing_id,itype) values (%s, %s)\",(ing_id,itype))\n",
    "    mysql.connection.commit()\n",
    "    cur.close()\n",
    "    "
   ]
  },
  {
   "cell_type": "code",
   "execution_count": 317,
   "metadata": {},
   "outputs": [],
   "source": [
    "def ingPresent(ing):\n",
    "    cur = mysql.connection.cursor()\n",
    "    cur.execute(\"select ing_id from ingredients where ing_name =%s\",[ing])\n",
    "    v = 0\n",
    "    for c in cur:\n",
    "        v=c[0]\n",
    "        break\n",
    "    cur.close()\n",
    "    return v\n"
   ]
  },
  {
   "cell_type": "code",
   "execution_count": 318,
   "metadata": {},
   "outputs": [],
   "source": [
    "def insertIng(cat, val, fid):\n",
    "    cur = mysql.connection.cursor()\n",
    "    for f in val:\n",
    "        v = ingPresent(f.lower())\n",
    "        if(v==0):\n",
    "            k = getindexi() + 1\n",
    "           \n",
    "            print(v,k)\n",
    "            cur.execute(\"insert into ingredients(ing_id,ing_name) values (%s, %s)\",(k,f.lower()))\n",
    "            mysql.connection.commit()\n",
    "            insertIngType(k,cat)\n",
    "            v = k\n",
    "        insertContainst(fid,v)\n",
    "    mysql.connection.commit()\n",
    "    cur.close() \n"
   ]
  },
  {
   "cell_type": "code",
   "execution_count": 319,
   "metadata": {},
   "outputs": [],
   "source": [
    "def insertSteps(fid, val):\n",
    "    cur = mysql.connection.cursor()\n",
    "    for i in range(0,len(val)):\n",
    "        desc= val[i]\n",
    "        seq= i+1\n",
    "        cur.execute(\"insert into steps(fid,sequence, description) values (%s,%s,%s)\", (fid,seq,desc))\n",
    "        mysql.connection.commit()\n",
    "    cur.close()\n",
    "        \n",
    "        "
   ]
  },
  {
   "cell_type": "code",
   "execution_count": null,
   "metadata": {},
   "outputs": [
    {
     "name": "stdout",
     "output_type": "stream",
     "text": [
      " * Serving Flask app \"__main__\" (lazy loading)\n",
      " * Environment: production\n",
      "   WARNING: Do not use the development server in a production environment.\n",
      "   Use a production WSGI server instead.\n",
      " * Debug mode: off\n"
     ]
    },
    {
     "name": "stderr",
     "output_type": "stream",
     "text": [
      " * Running on http://127.0.0.1:5000/ (Press CTRL+C to quit)\n",
      "INFO:werkzeug: * Running on http://127.0.0.1:5000/ (Press CTRL+C to quit)\n",
      "127.0.0.1 - - [08/Apr/2020 03:09:56] \"\u001b[37mGET / HTTP/1.1\u001b[0m\" 200 -\n",
      "INFO:werkzeug:127.0.0.1 - - [08/Apr/2020 03:09:56] \"\u001b[37mGET / HTTP/1.1\u001b[0m\" 200 -\n"
     ]
    },
    {
     "name": "stdout",
     "output_type": "stream",
     "text": [
      "0 25\n",
      "0 26\n",
      "0 27\n"
     ]
    },
    {
     "name": "stderr",
     "output_type": "stream",
     "text": [
      "127.0.0.1 - - [08/Apr/2020 03:11:53] \"\u001b[37mPOST / HTTP/1.1\u001b[0m\" 200 -\n",
      "INFO:werkzeug:127.0.0.1 - - [08/Apr/2020 03:11:53] \"\u001b[37mPOST / HTTP/1.1\u001b[0m\" 200 -\n"
     ]
    }
   ],
   "source": [
    "from flask import Flask, render_template,request\n",
    "\n",
    "app = Flask(__name__)\n",
    "app.config['MYSQL_HOST'] = 'localhost'\n",
    "app.config['MYSQL_USER'] = 'root'\n",
    "app.config['MYSQL_PASSWORD'] = 'mooo69'\n",
    "app.config['MYSQL_DB'] = 'Food'\n",
    "\n",
    "mysql = MySQL(app)\n",
    "\n",
    "\n",
    "\n",
    "@app.route('/', methods=['GET', 'POST'])\n",
    "\n",
    "\n",
    "    \n",
    "def index():\n",
    "    if request.method == \"POST\":\n",
    "        get = request.form\n",
    "        recipename = get[\"name\" ]\n",
    "        preptime = get[\"min\"]\n",
    "        dtype = get[\"type\"]\n",
    "        fruits = get[\"fruits\"].split(\",\")\n",
    "        veg = get[\"veg\"].split(\",\")\n",
    "        meat = get[\"meat\"].split(\",\")\n",
    "        diary = get[\"diary\"].split(\",\")\n",
    "        spices = get[\"spices\"].split(\",\")\n",
    "        steps = get[\"steps\"].split(\".\")\n",
    "        cal = get[\"cal\"]\n",
    "        tot_fat = get[\"tot_fat\"]\n",
    "        sugar = get[\"sugar\"]\n",
    "        sodium = get[\"sodium\"]\n",
    "        protein = get[\"protein\"]\n",
    "        sat_fat = get['sat_fat']\n",
    "        carbs = get[\"carb\"]\n",
    "        fid = insertFoodt(recipename,preptime,dtype,cal,tot_fat,sugar,sodium,protein,sat_fat,carbs)\n",
    "        insertIng(\"Fruit\",fruits,fid)\n",
    "        insertIng(\"Vegetabele\",veg,fid)\n",
    "        insertIng(\"Meat\",meat,fid)\n",
    "        insertIng(\"Diary\",diary,fid)\n",
    "        insertIng(\"Spices\",spices,fid)\n",
    "        insertSteps(fid, steps)    \n",
    "                \n",
    "        return 'success'\n",
    "    return render_template('add_reipe.html')\n",
    "#[('name', ''), ('min', ''), ('fruits', ''), ('veg', ''), ('meat', ''), ('diary', ''), ('spices', ''), ('steps', '')])\n",
    "\n",
    "if __name__ == '__main__':\n",
    "       \n",
    "    app.run()"
   ]
  },
  {
   "cell_type": "code",
   "execution_count": null,
   "metadata": {},
   "outputs": [],
   "source": []
  },
  {
   "cell_type": "code",
   "execution_count": null,
   "metadata": {},
   "outputs": [],
   "source": []
  }
 ],
 "metadata": {
  "kernelspec": {
   "display_name": "Python 3",
   "language": "python",
   "name": "python3"
  },
  "language_info": {
   "codemirror_mode": {
    "name": "ipython",
    "version": 3
   },
   "file_extension": ".py",
   "mimetype": "text/x-python",
   "name": "python",
   "nbconvert_exporter": "python",
   "pygments_lexer": "ipython3",
   "version": "3.7.1"
  }
 },
 "nbformat": 4,
 "nbformat_minor": 2
}
